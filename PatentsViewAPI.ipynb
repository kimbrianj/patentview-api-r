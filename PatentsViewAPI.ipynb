{
 "cells": [
  {
   "cell_type": "markdown",
   "metadata": {},
   "source": [
    "# In-Class Exercise: Pulling Data from APIs\n"
   ]
  },
  {
   "cell_type": "markdown",
   "metadata": {},
   "source": [
    "APIs (application programming interfaces) are hosted on web servers. When you type www.google.com in your browser's address bar, your computer is actually asking the www.google.com server for a webpage, which it then returns to your browser. APIs work much the same way, except instead of your web browser asking for a webpage, your program asks for data. This data is usually returned in JSON format.\n",
    "\n",
    "To retrieve data, we make a request to a webserver. The server then replies with our data. In R, we'll use the `httr` library to do this.\n",
    "\n",
    "## PatentsView Data\n",
    "\n",
    "The PatentsView platform is built on data derived from the US Patent and Trademark Office (USPTO) bulk data to link inventors, their organizations, locations, and overall patenting activity. The PatentsView API provides programmatic access to longitudinal data and metadata on patents, inventors, companies, and geographic locations since 1976.\n",
    "\n",
    "To access the API, we use the request function. In order to tell Python what to access, we need to specify the url of the API endpoint.\n",
    "\n",
    "PatentsView has several API endpoints. An endpoint is a server route that is used to retrieve different data from the API. You can think of the endpoints as just specifying what types of data you want. Examples of PatentsView API endpoints are shown here: http://www.patentsview.org/api/doc.html\n",
    "\n",
    "Many times, we need to request a key from the data provider in order to access an API. For example, if you wanted to access the Twitter API, then you would need to get a Twitter developer account and access token (see https://developer.twitter.com/en/docs/basics/authentication/overview/oauth). Currently no key is necessary to access the PatentsView API.\n",
    "\n",
    "## Motivating Question\n",
    "\n",
    "We will use the `httr` package to retrieve information about the patents that have been granted to inventors at University of Maryland, using the PatentsView API, then use the `jsonlite` package to convert it into a usable format (that is, a dataframe). This notebook goes over using getting the data, customizing the query to get the data that you need, and formatting the data once you've gotten it from the API.\n",
    "\n",
    "## Accessing the PatentsView API\n",
    "\n",
    "When you ping a website or portal for information this is called making a request. That is exactly what the requests library has been designed to do. However, we need to provide a query URL according to the format defined by PatentsView. The details on how to do that is explained at [this link](https://www.patentsview.org/api/query-language.html).\n",
    "\n",
    "### Starting out\n",
    "\n",
    "We'll first start out by making sure the appropriate packages are installed. We use the `httr` package for getting the data, and the `jsonlite` package for converting it into a usable form."
   ]
  },
  {
   "cell_type": "code",
   "execution_count": 2,
   "metadata": {},
   "outputs": [],
   "source": [
    "if (!requireNamespace(\"httr\", quietly = TRUE)) {\n",
    "  install.packages(\"httr\")\n",
    "}\n",
    "if (!requireNamespace(\"jsonlite\", quietly = TRUE)) {\n",
    "  install.packages(\"jsonlite\")\n",
    "}\n",
    "\n",
    "library('httr')\n",
    "library('jsonlite')"
   ]
  },
  {
   "cell_type": "markdown",
   "metadata": {},
   "source": [
    "### Building the Request\n",
    "\n",
    "Let's first try a simple example. We're going to be bringing in data about the patents that were awarded to University of Maryland, without any additional specifications. We follow the instructions detailed on the website at <https://www.patentsview.org/api/patent.html>, starting with the base URL, then including, in a list, the query parameters. "
   ]
  },
  {
   "cell_type": "code",
   "execution_count": 3,
   "metadata": {},
   "outputs": [],
   "source": [
    "url <- 'https://www.patentsview.org/api/patents/query'\n",
    "request <- GET(url, query = list(q = '{\"assignee_organization\":\"university of maryland\"}'))"
   ]
  },
  {
   "cell_type": "markdown",
   "metadata": {},
   "source": [
    "This essentially takes in the information about the webpage you want data from, and gives a response containing various outputs from that request. "
   ]
  },
  {
   "cell_type": "code",
   "execution_count": 4,
   "metadata": {},
   "outputs": [
    {
     "data": {
      "text/html": [
       "'response'"
      ],
      "text/latex": [
       "'response'"
      ],
      "text/markdown": [
       "'response'"
      ],
      "text/plain": [
       "[1] \"response\""
      ]
     },
     "metadata": {},
     "output_type": "display_data"
    }
   ],
   "source": [
    "class(request)"
   ]
  },
  {
   "cell_type": "markdown",
   "metadata": {},
   "source": [
    "### Check the response code\n",
    "\n",
    "Before you can do anything with a website or URL, it’s a good idea to check the current status code of said portal.\n",
    "\n",
    "The following are the response codes for the PatentsView API:\n",
    "\n",
    "**200** - the query parameters are all valid; the results will be in the body of the response.\n",
    "\n",
    "**400** - the query parameters are not valid, typically either because they are not in valid JSON format, or a specified field or value is not valid; the “status reason” in the header will contain the error message.\n",
    "\n",
    "**500** - there is an internal error with the processing of the query; the “status reason” in the header will contain the error message.\n",
    "\n"
   ]
  },
  {
   "cell_type": "code",
   "execution_count": null,
   "metadata": {},
   "outputs": [],
   "source": [
    "request$status_code"
   ]
  },
  {
   "cell_type": "markdown",
   "metadata": {},
   "source": [
    "If you see `200` above, that means we're good to go! If not, double check to make sure nothing was changed from the original code."
   ]
  },
  {
   "cell_type": "markdown",
   "metadata": {},
   "source": [
    "### Accessing the Content\n",
    "\n",
    "After a web server returns a response, you can collect the content you need by converting it into a JSON format.\n",
    "\n",
    "JSON is a way to encode data structures like lists to strings that ensures that they are easily readable by machines. JSON is the primary format in which data is passed back and forth to APIs, and most API servers will send their responses in JSON format.\n",
    "\n",
    "Let's take a quick peek at the content."
   ]
  },
  {
   "cell_type": "code",
   "execution_count": null,
   "metadata": {},
   "outputs": [],
   "source": [
    "head(request$content)"
   ]
  },
  {
   "cell_type": "markdown",
   "metadata": {},
   "source": [
    "This is in raw format, but we actually want characters. We can convert it using the `rawToChar` function."
   ]
  },
  {
   "cell_type": "code",
   "execution_count": null,
   "metadata": {
    "lines_to_next_cell": 0
   },
   "outputs": [],
   "source": [
    "raw_content <- rawToChar(request$content)\n",
    "str(raw_content)"
   ]
  },
  {
   "cell_type": "markdown",
   "metadata": {},
   "source": [
    "This is better, and you can start to see some of the data that you want, but it's not in a nice format for working with. We use the `fromJSON` function to convert it into an R list, which we can then work with."
   ]
  },
  {
   "cell_type": "code",
   "execution_count": null,
   "metadata": {},
   "outputs": [],
   "source": [
    "patent_data <- fromJSON(raw_content)\n",
    "str(patent_data)"
   ]
  },
  {
   "cell_type": "markdown",
   "metadata": {},
   "source": [
    "Note that this list has three things: a dataframe containing the actual patent information, a count of the number of patents that were returned as part of this query, and a total patent count, signifying how many total patents there were that satisfied our criteria. In this case, since University of Maryland had 1243 patents, that's the number in `total_patent_count`.\n",
    "\n",
    "Let's take the actual patent data and separate it out from the list."
   ]
  },
  {
   "cell_type": "code",
   "execution_count": null,
   "metadata": {},
   "outputs": [],
   "source": [
    "patent_df <- patent_data$patents\n",
    "head(patent_df)"
   ]
  },
  {
   "cell_type": "markdown",
   "metadata": {},
   "source": [
    "This is finally something we can work with. In this case, it will mostly be text data, because it contains information on patents, such as abstracts and title, but other APIs might have other types of information you can pull.\n",
    "\n",
    "**Summary of Process**\n",
    "- Construct the request.\n",
    "- Check the status code.\n",
    "- Get the raw content.\n",
    "- Convert into readable JSON.\n",
    "- Convert JSON into dataframe."
   ]
  },
  {
   "cell_type": "markdown",
   "metadata": {},
   "source": [
    "### Adding More Options\n",
    "\n",
    "Above we were able to pull data with the default information on the patents (patent_id, patent_number, patent_title). It might be useful to know additional information on patents, such as patent classification and application date. \n",
    "\n",
    "Let's look for those variables in the API Endpoint (http://www.patentsview.org/api/patent.html), and add those fields to our query. We will use the patent type variable called `patent_type`. The application date varible is called `app_date`.\n"
   ]
  },
  {
   "cell_type": "code",
   "execution_count": null,
   "metadata": {},
   "outputs": [],
   "source": [
    "qry <- list(q = '{\"assignee_organization\":\"university of maryland\"}', \n",
    "            f='[\"patent_id\", \"patent_title\",\"patent_type\",\"app_date\"]')\n",
    "request <- GET(url, query = qry)\n",
    "request$status_code"
   ]
  },
  {
   "cell_type": "code",
   "execution_count": null,
   "metadata": {},
   "outputs": [],
   "source": [
    "df <- fromJSON(rawToChar(request$content))$patents\n",
    "head(df)"
   ]
  },
  {
   "cell_type": "markdown",
   "metadata": {},
   "source": [
    "We can see that we have these additional variables now. "
   ]
  },
  {
   "cell_type": "code",
   "execution_count": null,
   "metadata": {},
   "outputs": [],
   "source": [
    "table(df$patent_type)"
   ]
  },
  {
   "cell_type": "markdown",
   "metadata": {},
   "source": [
    "Sometimes, getting the data into a neat dataframe is a bit more complicated. Consider the following."
   ]
  },
  {
   "cell_type": "code",
   "execution_count": 5,
   "metadata": {},
   "outputs": [
    {
     "data": {
      "text/html": [
       "200"
      ],
      "text/latex": [
       "200"
      ],
      "text/markdown": [
       "200"
      ],
      "text/plain": [
       "[1] 200"
      ]
     },
     "metadata": {},
     "output_type": "display_data"
    }
   ],
   "source": [
    "qry <- list(q = '{\"assignee_organization\":\"university of maryland\"}', \n",
    "            f='[\"patent_id\",\"inventor_first_name\",\"inventor_last_name\", \"patent_title\",\"patent_type\",\"app_date\"]')\n",
    "request <- GET(url, query = qry)\n",
    "request$status_code"
   ]
  },
  {
   "cell_type": "markdown",
   "metadata": {},
   "source": [
    "Here, we are getting information about the inventors. Let's take a look at the data we got."
   ]
  },
  {
   "cell_type": "code",
   "execution_count": 9,
   "metadata": {
    "collapsed": true,
    "jupyter": {
     "outputs_hidden": true
    }
   },
   "outputs": [
    {
     "name": "stdout",
     "output_type": "stream",
     "text": [
      "List of 3\n",
      " $ patents           :'data.frame':\t25 obs. of  5 variables:\n",
      "  ..$ patent_id   : chr [1:25] \"10002228\" \"10006019\" \"10010596\" \"10014561\" ...\n",
      "  ..$ patent_title: chr [1:25] \"Method for binding site identification by molecular dynamics simulation (silcs: site identification by ligand c\"| __truncated__ \"Methods for recovery of leaf proteins\" \"Bacterial live vector vaccines expressing chromosomally-integrated foreign antigens\" \"Systems, methods, and devices for health monitoring of an energy storage device\" ...\n",
      "  ..$ patent_type : chr [1:25] \"utility\" \"utility\" \"utility\" \"utility\" ...\n",
      "  ..$ inventors   :List of 25\n",
      "  .. ..$ :'data.frame':\t2 obs. of  3 variables:\n",
      "  .. .. ..$ inventor_first_name: chr [1:2] \"Alexander D.\" \"Olgun\"\n",
      "  .. .. ..$ inventor_last_name : chr [1:2] \"Mackerell, Jr.\" \"Guvench\"\n",
      "  .. .. ..$ inventor_key_id    : chr [1:2] \"2470019\" \"3019384\"\n",
      "  .. ..$ :'data.frame':\t2 obs. of  3 variables:\n",
      "  .. .. ..$ inventor_first_name: chr [1:2] \"Hong\" \"Yangming Martin\"\n",
      "  .. .. ..$ inventor_last_name : chr [1:2] \"Fu\" \"Lo\"\n",
      "  .. .. ..$ inventor_key_id    : chr [1:2] \"1452756\" \"3376741\"\n",
      "  .. ..$ :'data.frame':\t2 obs. of  3 variables:\n",
      "  .. .. ..$ inventor_first_name: chr [1:2] \"James E.\" \"Jinyuan\"\n",
      "  .. .. ..$ inventor_last_name : chr [1:2] \"Galen\" \"Wang\"\n",
      "  .. .. ..$ inventor_key_id    : chr [1:2] \"1887779\" \"2759593\"\n",
      "  .. ..$ :'data.frame':\t3 obs. of  3 variables:\n",
      "  .. .. ..$ inventor_first_name: chr [1:3] \"Michael D.\" \"Michael G.\" \"Bhanu Pratrap\"\n",
      "  .. .. ..$ inventor_last_name : chr [1:3] \"Osterman\" \"Pecht\" \"Sood\"\n",
      "  .. .. ..$ inventor_key_id    : chr [1:3] \"6766\" \"2319763\" \"2727019\"\n",
      "  .. ..$ :'data.frame':\t3 obs. of  3 variables:\n",
      "  .. .. ..$ inventor_first_name: chr [1:3] \"Ramani\" \"Dmitry N.\" \"Yuancheng\"\n",
      "  .. .. ..$ inventor_last_name : chr [1:3] \"Duraiswami\" \"Zotkin\" \"Luo\"\n",
      "  .. .. ..$ inventor_key_id    : chr [1:3] \"2568151\" \"2793133\" \"3475717\"\n",
      "  .. ..$ :'data.frame':\t2 obs. of  3 variables:\n",
      "  .. .. ..$ inventor_first_name: chr [1:2] \"Sarah\" \"Jia Bei\"\n",
      "  .. .. ..$ inventor_last_name : chr [1:2] \"Sushchyk\" \"Wang\"\n",
      "  .. .. ..$ inventor_key_id    : chr [1:2] \"7442\" \"1800598\"\n",
      "  .. ..$ :'data.frame':\t3 obs. of  3 variables:\n",
      "  .. .. ..$ inventor_first_name: chr [1:3] \"Paul D.\" \"Imraan\" \"James Sean\"\n",
      "  .. .. ..$ inventor_last_name : chr [1:3] \"Samuel\" \"Faruque\" \"Humbert\"\n",
      "  .. .. ..$ inventor_key_id    : chr [1:3] \"7921\" \"7922\" \"7923\"\n",
      "  .. ..$ :'data.frame':\t5 obs. of  3 variables:\n",
      "  .. .. ..$ inventor_first_name: chr [1:5] \"Lenea\" \"Katharina\" \"Philip R.\" \"Daniel C.\" ...\n",
      "  .. .. ..$ inventor_last_name : chr [1:5] \"Stocker\" \"Richard\" \"DeShong\" \"Stein\" ...\n",
      "  .. .. ..$ inventor_key_id    : chr [1:5] \"8142\" \"8143\" \"1229039\" \"1338305\" ...\n",
      "  .. ..$ :'data.frame':\t6 obs. of  3 variables:\n",
      "  .. .. ..$ inventor_first_name: chr [1:6] \"Suxin\" \"Reinhard K.\" \"Ichiro\" \"Yunho\" ...\n",
      "  .. .. ..$ inventor_last_name : chr [1:6] \"Qian\" \"Radermacher\" \"Takeuchi\" \"Hwang\" ...\n",
      "  .. .. ..$ inventor_key_id    : chr [1:6] \"8665\" \"835195\" \"1650872\" \"2524108\" ...\n",
      "  .. ..$ :'data.frame':\t3 obs. of  3 variables:\n",
      "  .. .. ..$ inventor_first_name: chr [1:3] \"Brual C.\" \"Petr\" \"Satyandra Kumar\"\n",
      "  .. .. ..$ inventor_last_name : chr [1:3] \"Shah\" \"Svec\" \"Gupta\"\n",
      "  .. .. ..$ inventor_key_id    : chr [1:3] \"8949\" \"8950\" \"1786467\"\n",
      "  .. ..$ :'data.frame':\t2 obs. of  3 variables:\n",
      "  .. .. ..$ inventor_first_name: chr [1:2] \"Audra Lynn\" \"Priyanka\"\n",
      "  .. .. ..$ inventor_last_name : chr [1:2] \"Stinchcomb\" \"Ghosh\"\n",
      "  .. .. ..$ inventor_key_id    : chr [1:2] \"1973700\" \"3424898\"\n",
      "  .. ..$ :'data.frame':\t4 obs. of  3 variables:\n",
      "  .. .. ..$ inventor_first_name: chr [1:4] \"Hyounguk\" \"Jianting\" \"Yu\" \"Thomas Joshua\"\n",
      "  .. .. ..$ inventor_last_name : chr [1:4] \"Jang\" \"Wang\" \"Chen\" \"Pfefer\"\n",
      "  .. .. ..$ inventor_key_id    : chr [1:4] \"11706\" \"11707\" \"1534447\" \"3579699\"\n",
      "  .. ..$ :'data.frame':\t1 obs. of  3 variables:\n",
      "  .. .. ..$ inventor_first_name: chr \"Chris D.\"\n",
      "  .. .. ..$ inventor_last_name : chr \"Geddes\"\n",
      "  .. .. ..$ inventor_key_id    : chr \"2256538\"\n",
      "  .. ..$ :'data.frame':\t1 obs. of  3 variables:\n",
      "  .. .. ..$ inventor_first_name: chr \"Chris D.\"\n",
      "  .. .. ..$ inventor_last_name : chr \"Geddes\"\n",
      "  .. .. ..$ inventor_key_id    : chr \"2256538\"\n",
      "  .. ..$ :'data.frame':\t8 obs. of  3 variables:\n",
      "  .. .. ..$ inventor_first_name: chr [1:8] \"Chanyuan\" \"Eleanor\" \"Gary W.\" \"Sang-Bok\" ...\n",
      "  .. .. ..$ inventor_last_name : chr [1:8] \"Liu\" \"Gillette\" \"Rubloff\" \"Lee\" ...\n",
      "  .. .. ..$ inventor_key_id    : chr [1:8] \"15073\" \"15074\" \"781520\" \"1547321\" ...\n",
      "  .. ..$ :'data.frame':\t3 obs. of  3 variables:\n",
      "  .. .. ..$ inventor_first_name: chr [1:3] \"Irving N.\" \"Edo\" \"Benjamin Lloyd\"\n",
      "  .. .. ..$ inventor_last_name : chr [1:3] \"Weinberg\" \"Waks\" \"Shapiro\"\n",
      "  .. .. ..$ inventor_key_id    : chr [1:3] \"1183921\" \"2383763\" \"2471068\"\n",
      "  .. ..$ :'data.frame':\t6 obs. of  3 variables:\n",
      "  .. .. ..$ inventor_first_name: chr [1:6] \"Narutoshi\" \"John P.\" \"Carolyn\" \"Axel\" ...\n",
      "  .. .. ..$ inventor_last_name : chr [1:6] \"Hibino\" \"Costello\" \"Cochenour\" \"Krieger\" ...\n",
      "  .. .. ..$ inventor_key_id    : chr [1:6] \"15931\" \"15932\" \"15933\" \"2816572\" ...\n",
      "  .. ..$ :'data.frame':\t4 obs. of  3 variables:\n",
      "  .. .. ..$ inventor_first_name: chr [1:4] \"Xia\" \"Mark Z.\" \"Zeev\" \"Li\"\n",
      "  .. .. ..$ inventor_last_name : chr [1:4] \"Hong\" \"Ma\" \"Pancer\" \"Mao\"\n",
      "  .. .. ..$ inventor_key_id    : chr [1:4] \"16896\" \"16897\" \"1854693\" \"2413077\"\n",
      "  .. ..$ :'data.frame':\t3 obs. of  3 variables:\n",
      "  .. .. ..$ inventor_first_name: chr [1:3] \"Taylor\" \"Ryan\" \"Stanislav I\"\n",
      "  .. .. ..$ inventor_last_name : chr [1:3] \"Myers\" \"Fisher\" \"Stoliarov\"\n",
      "  .. .. ..$ inventor_key_id    : chr [1:3] \"19240\" \"19241\" \"19242\"\n",
      "  .. ..$ :'data.frame':\t1 obs. of  3 variables:\n",
      "  .. .. ..$ inventor_first_name: chr \"James E.\"\n",
      "  .. .. ..$ inventor_last_name : chr \"Galen\"\n",
      "  .. .. ..$ inventor_key_id    : chr \"1887779\"\n",
      "  .. ..$ :'data.frame':\t5 obs. of  3 variables:\n",
      "  .. .. ..$ inventor_first_name: chr [1:5] \"Hannah L.\" \"Dirk\" \"Johan\" \"Katherine L.\" ...\n",
      "  .. .. ..$ inventor_last_name : chr [1:5] \"Peters\" \"Jochmans\" \"Neyts\" \"Radtke\" ...\n",
      "  .. .. ..$ inventor_key_id    : chr [1:5] \"26461\" \"26462\" \"2272009\" \"3366023\" ...\n",
      "  .. ..$ :'data.frame':\t1 obs. of  3 variables:\n",
      "  .. .. ..$ inventor_first_name: chr \"Chris D.\"\n",
      "  .. .. ..$ inventor_last_name : chr \"Geddes\"\n",
      "  .. .. ..$ inventor_key_id    : chr \"2256538\"\n",
      "  .. ..$ :'data.frame':\t3 obs. of  3 variables:\n",
      "  .. .. ..$ inventor_first_name: chr [1:3] \"Christopher M.\" \"James I.\" \"Lisa H.\"\n",
      "  .. .. ..$ inventor_last_name : chr [1:3] \"Jewell\" \"Andorko\" \"Tostanoski\"\n",
      "  .. .. ..$ inventor_key_id    : chr [1:3] \"3047831\" \"3444005\" \"3444006\"\n",
      "  .. ..$ :'data.frame':\t5 obs. of  3 variables:\n",
      "  .. .. ..$ inventor_first_name: chr [1:5] \"Amy Elizabeth\" \"Glenn\" \"Terry\" \"Eric Michael\" ...\n",
      "  .. .. ..$ inventor_last_name : chr [1:5] \"Marquardt\" \"Gates\" \"Weisser\" \"Breitung\" ...\n",
      "  .. .. ..$ inventor_key_id    : chr [1:5] \"33028\" \"33029\" \"33030\" \"2064797\" ...\n",
      "  .. ..$ :'data.frame':\t3 obs. of  3 variables:\n",
      "  .. .. ..$ inventor_first_name: chr [1:3] \"John\" \"Bradley M.\" \"Christopher\"\n",
      "  .. .. ..$ inventor_last_name : chr [1:3] \"Cataldi\" \"Arnold\" \"Cooper\"\n",
      "  .. .. ..$ inventor_key_id    : chr [1:3] \"35698\" \"2139938\" \"2792864\"\n",
      "  ..$ applications:List of 25\n",
      "  .. ..$ :'data.frame':\t1 obs. of  2 variables:\n",
      "  .. .. ..$ app_date: chr \"2015-11-19\"\n",
      "  .. .. ..$ app_id  : chr \"14/945792\"\n",
      "  .. ..$ :'data.frame':\t1 obs. of  2 variables:\n",
      "  .. .. ..$ app_date: chr \"2017-12-13\"\n",
      "  .. .. ..$ app_id  : chr \"15/840857\"\n",
      "  .. ..$ :'data.frame':\t1 obs. of  2 variables:\n",
      "  .. .. ..$ app_date: chr \"2016-08-11\"\n",
      "  .. .. ..$ app_id  : chr \"15/234703\"\n",
      "  .. ..$ :'data.frame':\t1 obs. of  2 variables:\n",
      "  .. .. ..$ app_date: chr \"2014-08-14\"\n",
      "  .. .. ..$ app_id  : chr \"14/912113\"\n",
      "  .. ..$ :'data.frame':\t1 obs. of  2 variables:\n",
      "  .. .. ..$ app_date: chr \"2015-06-08\"\n",
      "  .. .. ..$ app_id  : chr \"14/732864\"\n",
      "  .. ..$ :'data.frame':\t1 obs. of  2 variables:\n",
      "  .. .. ..$ app_date: chr \"2013-09-12\"\n",
      "  .. .. ..$ app_id  : chr \"14/025434\"\n",
      "  .. ..$ :'data.frame':\t1 obs. of  2 variables:\n",
      "  .. .. ..$ app_date: chr \"2015-04-28\"\n",
      "  .. .. ..$ app_id  : chr \"14/698375\"\n",
      "  .. ..$ :'data.frame':\t1 obs. of  2 variables:\n",
      "  .. .. ..$ app_date: chr \"2014-06-03\"\n",
      "  .. .. ..$ app_id  : chr \"14/295306\"\n",
      "  .. ..$ :'data.frame':\t1 obs. of  2 variables:\n",
      "  .. .. ..$ app_date: chr \"2015-09-21\"\n",
      "  .. .. ..$ app_id  : chr \"14/860338\"\n",
      "  .. ..$ :'data.frame':\t1 obs. of  2 variables:\n",
      "  .. .. ..$ app_date: chr \"2016-04-08\"\n",
      "  .. .. ..$ app_id  : chr \"15/094295\"\n",
      "  .. ..$ :'data.frame':\t1 obs. of  2 variables:\n",
      "  .. .. ..$ app_date: chr \"2014-04-23\"\n",
      "  .. .. ..$ app_id  : chr \"14/786698\"\n",
      "  .. ..$ :'data.frame':\t1 obs. of  2 variables:\n",
      "  .. .. ..$ app_date: chr \"2016-06-20\"\n",
      "  .. .. ..$ app_id  : chr \"15/187727\"\n",
      "  .. ..$ :'data.frame':\t1 obs. of  2 variables:\n",
      "  .. .. ..$ app_date: chr \"2010-02-23\"\n",
      "  .. .. ..$ app_id  : chr \"13/202895\"\n",
      "  .. ..$ :'data.frame':\t1 obs. of  2 variables:\n",
      "  .. .. ..$ app_date: chr \"2010-02-17\"\n",
      "  .. .. ..$ app_id  : chr \"13/201878\"\n",
      "  .. ..$ :'data.frame':\t1 obs. of  2 variables:\n",
      "  .. .. ..$ app_date: chr \"2014-12-15\"\n",
      "  .. .. ..$ app_id  : chr \"14/570921\"\n",
      "  .. ..$ :'data.frame':\t1 obs. of  2 variables:\n",
      "  .. .. ..$ app_date: chr \"2015-02-26\"\n",
      "  .. .. ..$ app_id  : chr \"14/632982\"\n",
      "  .. ..$ :'data.frame':\t1 obs. of  2 variables:\n",
      "  .. .. ..$ app_date: chr \"2014-06-06\"\n",
      "  .. .. ..$ app_id  : chr \"14/895617\"\n",
      "  .. ..$ :'data.frame':\t1 obs. of  2 variables:\n",
      "  .. .. ..$ app_date: chr \"2012-11-21\"\n",
      "  .. .. ..$ app_id  : chr \"14/359653\"\n",
      "  .. ..$ :'data.frame':\t1 obs. of  2 variables:\n",
      "  .. .. ..$ app_date: chr \"2014-11-14\"\n",
      "  .. .. ..$ app_id  : chr \"14/541614\"\n",
      "  .. ..$ :'data.frame':\t1 obs. of  2 variables:\n",
      "  .. .. ..$ app_date: chr \"2010-11-16\"\n",
      "  .. .. ..$ app_id  : chr \"13/509818\"\n",
      "  .. ..$ :'data.frame':\t1 obs. of  2 variables:\n",
      "  .. .. ..$ app_date: chr \"2016-01-28\"\n",
      "  .. .. ..$ app_id  : chr \"15/546818\"\n",
      "  .. ..$ :'data.frame':\t1 obs. of  2 variables:\n",
      "  .. .. ..$ app_date: chr \"2017-11-03\"\n",
      "  .. .. ..$ app_id  : chr \"15/802989\"\n",
      "  .. ..$ :'data.frame':\t1 obs. of  2 variables:\n",
      "  .. .. ..$ app_date: chr \"2017-03-03\"\n",
      "  .. .. ..$ app_id  : chr \"15/449327\"\n",
      "  .. ..$ :'data.frame':\t1 obs. of  2 variables:\n",
      "  .. .. ..$ app_date: chr \"2015-08-28\"\n",
      "  .. .. ..$ app_id  : chr \"14/839664\"\n",
      "  .. ..$ :'data.frame':\t1 obs. of  2 variables:\n",
      "  .. .. ..$ app_date: chr \"2017-10-02\"\n",
      "  .. .. ..$ app_id  : chr \"15/723103\"\n",
      " $ count             : int 25\n",
      " $ total_patent_count: int 1243\n"
     ]
    }
   ],
   "source": [
    "dat <- fromJSON(rawToChar(request$content))\n",
    "str(dat)"
   ]
  },
  {
   "cell_type": "markdown",
   "metadata": {},
   "source": [
    "Many patents have multiple inventors, so it becomes much more complicated, and is nested. It's possible to clean this up, but it takes a bit more work than just getting a dataframe out."
   ]
  },
  {
   "cell_type": "code",
   "execution_count": 11,
   "metadata": {},
   "outputs": [
    {
     "data": {
      "text/html": [
       "<table>\n",
       "<caption>A data.frame: 6 × 5</caption>\n",
       "<thead>\n",
       "\t<tr><th></th><th scope=col>patent_id</th><th scope=col>patent_title</th><th scope=col>patent_type</th><th scope=col>inventors</th><th scope=col>applications</th></tr>\n",
       "\t<tr><th></th><th scope=col>&lt;chr&gt;</th><th scope=col>&lt;chr&gt;</th><th scope=col>&lt;chr&gt;</th><th scope=col>&lt;list&gt;</th><th scope=col>&lt;list&gt;</th></tr>\n",
       "</thead>\n",
       "<tbody>\n",
       "\t<tr><th scope=row>1</th><td>10002228</td><td>Method for binding site identification by molecular dynamics simulation (silcs: site identification by ligand competitive saturation)</td><td>utility</td><td>Alexander D.  , Olgun         , Mackerell, Jr., Guvench       , 2470019       , 3019384       </td><td>2015-11-19, 14/945792 </td></tr>\n",
       "\t<tr><th scope=row>2</th><td>10006019</td><td>Methods for recovery of leaf proteins                                                                                                </td><td>utility</td><td>Hong           , Yangming Martin, Fu             , Lo             , 1452756        , 3376741        </td><td>2017-12-13, 15/840857 </td></tr>\n",
       "\t<tr><th scope=row>3</th><td>10010596</td><td>Bacterial live vector vaccines expressing chromosomally-integrated foreign antigens                                                  </td><td>utility</td><td>James E., Jinyuan , Galen   , Wang    , 1887779 , 2759593 </td><td>2016-08-11, 15/234703 </td></tr>\n",
       "\t<tr><th scope=row>4</th><td>10014561</td><td>Systems, methods, and devices for health monitoring of an energy storage device                                                      </td><td>utility</td><td>Michael D.   , Michael G.   , Bhanu Pratrap, Osterman     , Pecht        , Sood         , 6766         , 2319763      , 2727019      </td><td>2014-08-14, 14/912113 </td></tr>\n",
       "\t<tr><th scope=row>5</th><td>10015616</td><td>Sparse decomposition of head related impulse responses with applications to spatial audio rendering                                  </td><td>utility</td><td>Ramani    , Dmitry N. , Yuancheng , Duraiswami, Zotkin    , Luo       , 2568151   , 2793133   , 3475717   </td><td>2015-06-08, 14/732864 </td></tr>\n",
       "\t<tr><th scope=row>6</th><td>10016413</td><td>Combination dopamine antagonist and opiate receptor antagonist treatment of addictive behavior                                       </td><td>utility</td><td>Sarah   , Jia Bei , Sushchyk, Wang    , 7442    , 1800598 </td><td>2013-09-12, 14/025434 </td></tr>\n",
       "</tbody>\n",
       "</table>\n"
      ],
      "text/latex": [
       "A data.frame: 6 × 5\n",
       "\\begin{tabular}{r|lllll}\n",
       "  & patent\\_id & patent\\_title & patent\\_type & inventors & applications\\\\\n",
       "  & <chr> & <chr> & <chr> & <list> & <list>\\\\\n",
       "\\hline\n",
       "\t1 & 10002228 & Method for binding site identification by molecular dynamics simulation (silcs: site identification by ligand competitive saturation) & utility & Alexander D.  , Olgun         , Mackerell, Jr., Guvench       , 2470019       , 3019384        & 2015-11-19, 14/945792 \\\\\n",
       "\t2 & 10006019 & Methods for recovery of leaf proteins                                                                                                 & utility & Hong           , Yangming Martin, Fu             , Lo             , 1452756        , 3376741         & 2017-12-13, 15/840857 \\\\\n",
       "\t3 & 10010596 & Bacterial live vector vaccines expressing chromosomally-integrated foreign antigens                                                   & utility & James E., Jinyuan , Galen   , Wang    , 1887779 , 2759593  & 2016-08-11, 15/234703 \\\\\n",
       "\t4 & 10014561 & Systems, methods, and devices for health monitoring of an energy storage device                                                       & utility & Michael D.   , Michael G.   , Bhanu Pratrap, Osterman     , Pecht        , Sood         , 6766         , 2319763      , 2727019       & 2014-08-14, 14/912113 \\\\\n",
       "\t5 & 10015616 & Sparse decomposition of head related impulse responses with applications to spatial audio rendering                                   & utility & Ramani    , Dmitry N. , Yuancheng , Duraiswami, Zotkin    , Luo       , 2568151   , 2793133   , 3475717    & 2015-06-08, 14/732864 \\\\\n",
       "\t6 & 10016413 & Combination dopamine antagonist and opiate receptor antagonist treatment of addictive behavior                                        & utility & Sarah   , Jia Bei , Sushchyk, Wang    , 7442    , 1800598  & 2013-09-12, 14/025434 \\\\\n",
       "\\end{tabular}\n"
      ],
      "text/markdown": [
       "\n",
       "A data.frame: 6 × 5\n",
       "\n",
       "| <!--/--> | patent_id &lt;chr&gt; | patent_title &lt;chr&gt; | patent_type &lt;chr&gt; | inventors &lt;list&gt; | applications &lt;list&gt; |\n",
       "|---|---|---|---|---|---|\n",
       "| 1 | 10002228 | Method for binding site identification by molecular dynamics simulation (silcs: site identification by ligand competitive saturation) | utility | Alexander D.  , Olgun         , Mackerell, Jr., Guvench       , 2470019       , 3019384        | 2015-11-19, 14/945792  |\n",
       "| 2 | 10006019 | Methods for recovery of leaf proteins                                                                                                 | utility | Hong           , Yangming Martin, Fu             , Lo             , 1452756        , 3376741         | 2017-12-13, 15/840857  |\n",
       "| 3 | 10010596 | Bacterial live vector vaccines expressing chromosomally-integrated foreign antigens                                                   | utility | James E., Jinyuan , Galen   , Wang    , 1887779 , 2759593  | 2016-08-11, 15/234703  |\n",
       "| 4 | 10014561 | Systems, methods, and devices for health monitoring of an energy storage device                                                       | utility | Michael D.   , Michael G.   , Bhanu Pratrap, Osterman     , Pecht        , Sood         , 6766         , 2319763      , 2727019       | 2014-08-14, 14/912113  |\n",
       "| 5 | 10015616 | Sparse decomposition of head related impulse responses with applications to spatial audio rendering                                   | utility | Ramani    , Dmitry N. , Yuancheng , Duraiswami, Zotkin    , Luo       , 2568151   , 2793133   , 3475717    | 2015-06-08, 14/732864  |\n",
       "| 6 | 10016413 | Combination dopamine antagonist and opiate receptor antagonist treatment of addictive behavior                                        | utility | Sarah   , Jia Bei , Sushchyk, Wang    , 7442    , 1800598  | 2013-09-12, 14/025434  |\n",
       "\n"
      ],
      "text/plain": [
       "  patent_id\n",
       "1 10002228 \n",
       "2 10006019 \n",
       "3 10010596 \n",
       "4 10014561 \n",
       "5 10015616 \n",
       "6 10016413 \n",
       "  patent_title                                                                                                                         \n",
       "1 Method for binding site identification by molecular dynamics simulation (silcs: site identification by ligand competitive saturation)\n",
       "2 Methods for recovery of leaf proteins                                                                                                \n",
       "3 Bacterial live vector vaccines expressing chromosomally-integrated foreign antigens                                                  \n",
       "4 Systems, methods, and devices for health monitoring of an energy storage device                                                      \n",
       "5 Sparse decomposition of head related impulse responses with applications to spatial audio rendering                                  \n",
       "6 Combination dopamine antagonist and opiate receptor antagonist treatment of addictive behavior                                       \n",
       "  patent_type\n",
       "1 utility    \n",
       "2 utility    \n",
       "3 utility    \n",
       "4 utility    \n",
       "5 utility    \n",
       "6 utility    \n",
       "  inventors                                                                                                                            \n",
       "1 Alexander D.  , Olgun         , Mackerell, Jr., Guvench       , 2470019       , 3019384                                              \n",
       "2 Hong           , Yangming Martin, Fu             , Lo             , 1452756        , 3376741                                         \n",
       "3 James E., Jinyuan , Galen   , Wang    , 1887779 , 2759593                                                                            \n",
       "4 Michael D.   , Michael G.   , Bhanu Pratrap, Osterman     , Pecht        , Sood         , 6766         , 2319763      , 2727019      \n",
       "5 Ramani    , Dmitry N. , Yuancheng , Duraiswami, Zotkin    , Luo       , 2568151   , 2793133   , 3475717                              \n",
       "6 Sarah   , Jia Bei , Sushchyk, Wang    , 7442    , 1800598                                                                            \n",
       "  applications          \n",
       "1 2015-11-19, 14/945792 \n",
       "2 2017-12-13, 15/840857 \n",
       "3 2016-08-11, 15/234703 \n",
       "4 2014-08-14, 14/912113 \n",
       "5 2015-06-08, 14/732864 \n",
       "6 2013-09-12, 14/025434 "
      ]
     },
     "metadata": {},
     "output_type": "display_data"
    }
   ],
   "source": [
    "df <- dat$patents\n",
    "head(df)"
   ]
  },
  {
   "cell_type": "markdown",
   "metadata": {},
   "source": [
    "### Getting All University of Maryland Patents\n",
    "\n",
    "Notice above that we only got 25 patents. This is because that's the default. We actually have the ability to get more than this, by specifying that we want more \"per_page\". "
   ]
  },
  {
   "cell_type": "code",
   "execution_count": null,
   "metadata": {},
   "outputs": [],
   "source": [
    "qry <- list(q = '{\"assignee_organization\":\"university of maryland\"}', \n",
    "            f='[\"patent_title\",\"patent_year\", \"patent_abstract\"]',\n",
    "            o='{\"per_page\":2000}')\n",
    "request <- GET(url, query = qry)\n",
    "request$status_code"
   ]
  },
  {
   "cell_type": "markdown",
   "metadata": {},
   "source": [
    "This allows us to get all of the patents that were awarded to University of Maryland, since we already know the number is 1243. "
   ]
  },
  {
   "cell_type": "code",
   "execution_count": null,
   "metadata": {},
   "outputs": [],
   "source": [
    "umd_patents <- fromJSON(rawToChar(request$content))$patents\n",
    "dim(umd_patents)"
   ]
  },
  {
   "cell_type": "markdown",
   "metadata": {},
   "source": [
    "## What Now?\n",
    "\n",
    "Now that we have the patent data, what can we do with it? Well, one example is doing text analysis using the patent abstracts. We might be interested in what types of patents were awarded to University of Maryland, and the topics of those patents, because while there is a `patent_type` field, it doesn't actually give us that much information. To do that, we might want to take the abstracts and extract meaning out of them. We don't want to read over 1000 abstracts though (or, maybe you do, but it'd still be quite time-consuming!), but we can use something called **topic modeling**. "
   ]
  },
  {
   "cell_type": "markdown",
   "metadata": {},
   "source": [
    "## Exercises\n",
    "\n",
    "**1. How might we change the code above to pull patent data for patents that were awarded to University of Michigan?** \n",
    "\n",
    "**2. Using the information in <https://www.patentsview.org/api/patent.html>, try adding some more fields and pulling some more data.**\n",
    "\n",
    "**3. Try graphing the number of patents awarded to University of Michigan and University of Maryland by year. That is, the year would be on the x-axis and the number of patents would be on the y-axis, with two lines representing Michigan and Maryland.**"
   ]
  }
 ],
 "metadata": {
  "jupytext": {
   "cell_metadata_filter": "name,hide_output,-all",
   "main_language": "R",
   "notebook_metadata_filter": "-all"
  },
  "kernelspec": {
   "display_name": "R",
   "language": "R",
   "name": "ir"
  },
  "language_info": {
   "codemirror_mode": "r",
   "file_extension": ".r",
   "mimetype": "text/x-r-source",
   "name": "R",
   "pygments_lexer": "r",
   "version": "3.6.1"
  }
 },
 "nbformat": 4,
 "nbformat_minor": 4
}
