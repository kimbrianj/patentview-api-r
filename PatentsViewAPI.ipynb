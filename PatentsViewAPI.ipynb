{
 "cells": [
  {
   "cell_type": "markdown",
   "metadata": {},
   "source": [
    "# Pulling Data from APIs"
   ]
  },
  {
   "cell_type": "markdown",
   "metadata": {},
   "source": [
    "APIs (application programming interfaces) are hosted on web servers. When you type www.google.com in your browser's address bar, your computer is actually asking the www.google.com server for a webpage, which it then returns to your browser. APIs work much the same way, except instead of your web browser asking for a webpage, your program asks for data. This data is usually returned in JSON format.\n",
    "\n",
    "To retrieve data, we make a request to a webserver. The server then replies with our data. In R, we'll use the `httr` library to do this.\n",
    "\n",
    "## PatentsView Data\n",
    "\n",
    "The PatentsView platform is built on data derived from the US Patent and Trademark Office (USPTO) bulk data to link inventors, their organizations, locations, and overall patenting activity. The PatentsView API provides programmatic access to longitudinal data and metadata on patents, inventors, companies, and geographic locations since 1976.\n",
    "\n",
    "To access the API, we use the request function. In order to tell Python what to access, we need to specify the url of the API endpoint.\n",
    "\n",
    "PatentsView has several API endpoints. An endpoint is a server route that is used to retrieve different data from the API. You can think of the endpoints as just specifying what types of data you want. Examples of PatentsView API endpoints are shown here: http://www.patentsview.org/api/doc.html\n",
    "\n",
    "Many times, we need to request a key from the data provider in order to access an API. For example, if you wanted to access the Twitter API, then you would need to get a Twitter developer account and access token (see https://developer.twitter.com/en/docs/basics/authentication/overview/oauth). Currently no key is necessary to access the PatentsView API.\n",
    "\n",
    "## Motivating Question\n",
    "\n",
    "We will use the `httr` package to retrieve information about the patents that have been granted to inventors at University of Maryland, using the PatentsView API, then use the `jsonlite` package to convert it into a usable format (that is, a dataframe). This notebook goes over using getting the data, customizing the query to get the data that you need, and formatting the data once you've gotten it from the API.\n",
    "\n",
    "## Accessing the PatentsView API\n",
    "\n",
    "When you ping a website or portal for information this is called making a request. That is exactly what the requests library has been designed to do. However, we need to provide a query URL according to the format defined by PatentsView. The details on how to do that is explained at [this link](https://www.patentsview.org/api/query-language.html).\n",
    "\n",
    "### Starting out\n",
    "\n",
    "We'll first start out by making sure the appropriate packages are installed. We use the `httr` package for getting the data, and the `jsonlite` package for converting it into a usable form."
   ]
  },
  {
   "cell_type": "code",
   "execution_count": 1,
   "metadata": {},
   "outputs": [],
   "source": [
    "if (!requireNamespace(\"httr\", quietly = TRUE)) {\n",
    "  install.packages(\"httr\")\n",
    "}\n",
    "if (!requireNamespace(\"jsonlite\", quietly = TRUE)) {\n",
    "  install.packages(\"jsonlite\")\n",
    "}\n",
    "\n",
    "library('httr')\n",
    "library('jsonlite')"
   ]
  },
  {
   "cell_type": "markdown",
   "metadata": {},
   "source": [
    "### Building the Request\n",
    "\n",
    "Let's first try a simple example. We're going to be bringing in data about the patents that were awarded to University of Maryland, without any additional specifications. We follow the instructions detailed on the website at <https://www.patentsview.org/api/patent.html>, starting with the base URL, then including, in a list, the query parameters. "
   ]
  },
  {
   "cell_type": "code",
   "execution_count": 2,
   "metadata": {},
   "outputs": [],
   "source": [
    "url <- 'https://www.patentsview.org/api/patents/query'\n",
    "request <- GET(url, query = list(q = '{\"assignee_organization\":\"university of maryland\"}'))"
   ]
  },
  {
   "cell_type": "markdown",
   "metadata": {},
   "source": [
    "This essentially takes in the information about the webpage you want data from, and gives a response containing various outputs from that request. "
   ]
  },
  {
   "cell_type": "code",
   "execution_count": 5,
   "metadata": {},
   "outputs": [
    {
     "data": {
      "text/html": [
       "'response'"
      ],
      "text/latex": [
       "'response'"
      ],
      "text/markdown": [
       "'response'"
      ],
      "text/plain": [
       "[1] \"response\""
      ]
     },
     "metadata": {},
     "output_type": "display_data"
    }
   ],
   "source": [
    "class(request)"
   ]
  },
  {
   "cell_type": "markdown",
   "metadata": {},
   "source": [
    "### Check the response code\n",
    "\n",
    "Before you can do anything with a website or URL, it’s a good idea to check the current status code of said portal.\n",
    "\n",
    "The following are the response codes for the PatentsView API:\n",
    "\n",
    "**200** - the query parameters are all valid; the results will be in the body of the response.\n",
    "\n",
    "**400** - the query parameters are not valid, typically either because they are not in valid JSON format, or a specified field or value is not valid; the “status reason” in the header will contain the error message.\n",
    "\n",
    "**500** - there is an internal error with the processing of the query; the “status reason” in the header will contain the error message.\n",
    "\n"
   ]
  },
  {
   "cell_type": "code",
   "execution_count": 3,
   "metadata": {},
   "outputs": [
    {
     "data": {
      "text/html": [
       "200"
      ],
      "text/latex": [
       "200"
      ],
      "text/markdown": [
       "200"
      ],
      "text/plain": [
       "[1] 200"
      ]
     },
     "metadata": {},
     "output_type": "display_data"
    }
   ],
   "source": [
    "request$status_code"
   ]
  },
  {
   "cell_type": "markdown",
   "metadata": {},
   "source": [
    "If you see `200` above, that means we're good to go! If not, double check to make sure nothing was changed from the original code."
   ]
  },
  {
   "cell_type": "markdown",
   "metadata": {},
   "source": [
    "### Accessing the Content\n",
    "\n",
    "After a web server returns a response, you can collect the content you need by converting it into a JSON format.\n",
    "\n",
    "JSON is a way to encode data structures like lists to strings that ensures that they are easily readable by machines. JSON is the primary format in which data is passed back and forth to APIs, and most API servers will send their responses in JSON format.\n",
    "\n",
    "Let's take a quick peek at the content."
   ]
  },
  {
   "cell_type": "code",
   "execution_count": 6,
   "metadata": {},
   "outputs": [
    {
     "data": {
      "text/plain": [
       "[1] 7b 22 70 61 74 65"
      ]
     },
     "metadata": {},
     "output_type": "display_data"
    }
   ],
   "source": [
    "head(request$content)"
   ]
  },
  {
   "cell_type": "markdown",
   "metadata": {},
   "source": [
    "This is in raw format, but we actually want characters. We can convert it using the `rawToChar` function."
   ]
  },
  {
   "cell_type": "code",
   "execution_count": 7,
   "metadata": {
    "lines_to_next_cell": 0
   },
   "outputs": [
    {
     "name": "stdout",
     "output_type": "stream",
     "text": [
      " chr \"{\\\"patents\\\":[{\\\"patent_id\\\":\\\"10002228\\\",\\\"patent_number\\\":\\\"10002228\\\",\\\"patent_title\\\":\\\"Method for binding \"| __truncated__\n"
     ]
    }
   ],
   "source": [
    "raw_content <- rawToChar(request$content)\n",
    "str(raw_content)"
   ]
  },
  {
   "cell_type": "markdown",
   "metadata": {},
   "source": [
    "This is better, and you can start to see some of the data that you want, but it's not in a nice format for working with. We use the `fromJSON` function to convert it into an R list, which we can then work with."
   ]
  },
  {
   "cell_type": "code",
   "execution_count": 8,
   "metadata": {},
   "outputs": [
    {
     "name": "stdout",
     "output_type": "stream",
     "text": [
      "List of 3\n",
      " $ patents           :'data.frame':\t25 obs. of  3 variables:\n",
      "  ..$ patent_id    : chr [1:25] \"10002228\" \"10006019\" \"10010596\" \"10014561\" ...\n",
      "  ..$ patent_number: chr [1:25] \"10002228\" \"10006019\" \"10010596\" \"10014561\" ...\n",
      "  ..$ patent_title : chr [1:25] \"Method for binding site identification by molecular dynamics simulation (silcs: site identification by ligand c\"| __truncated__ \"Methods for recovery of leaf proteins\" \"Bacterial live vector vaccines expressing chromosomally-integrated foreign antigens\" \"Systems, methods, and devices for health monitoring of an energy storage device\" ...\n",
      " $ count             : int 25\n",
      " $ total_patent_count: int 1243\n"
     ]
    }
   ],
   "source": [
    "patent_data <- fromJSON(raw_content)\n",
    "str(patent_data)"
   ]
  },
  {
   "cell_type": "markdown",
   "metadata": {},
   "source": [
    "Note that this list has three things: a dataframe containing the actual patent information, a count of the number of patents that were returned as part of this query, and a total patent count, signifying how many total patents there were that satisfied our criteria. In this case, since University of Maryland had 1243 patents, that's the number in `total_patent_count`.\n",
    "\n",
    "Let's take the actual patent data and separate it out from the list."
   ]
  },
  {
   "cell_type": "code",
   "execution_count": 10,
   "metadata": {},
   "outputs": [
    {
     "data": {
      "text/html": [
       "<table>\n",
       "<caption>A data.frame: 6 × 3</caption>\n",
       "<thead>\n",
       "\t<tr><th></th><th scope=col>patent_id</th><th scope=col>patent_number</th><th scope=col>patent_title</th></tr>\n",
       "\t<tr><th></th><th scope=col>&lt;chr&gt;</th><th scope=col>&lt;chr&gt;</th><th scope=col>&lt;chr&gt;</th></tr>\n",
       "</thead>\n",
       "<tbody>\n",
       "\t<tr><th scope=row>1</th><td>10002228</td><td>10002228</td><td>Method for binding site identification by molecular dynamics simulation (silcs: site identification by ligand competitive saturation)</td></tr>\n",
       "\t<tr><th scope=row>2</th><td>10006019</td><td>10006019</td><td>Methods for recovery of leaf proteins                                                                                                </td></tr>\n",
       "\t<tr><th scope=row>3</th><td>10010596</td><td>10010596</td><td>Bacterial live vector vaccines expressing chromosomally-integrated foreign antigens                                                  </td></tr>\n",
       "\t<tr><th scope=row>4</th><td>10014561</td><td>10014561</td><td>Systems, methods, and devices for health monitoring of an energy storage device                                                      </td></tr>\n",
       "\t<tr><th scope=row>5</th><td>10015616</td><td>10015616</td><td>Sparse decomposition of head related impulse responses with applications to spatial audio rendering                                  </td></tr>\n",
       "\t<tr><th scope=row>6</th><td>10016413</td><td>10016413</td><td>Combination dopamine antagonist and opiate receptor antagonist treatment of addictive behavior                                       </td></tr>\n",
       "</tbody>\n",
       "</table>\n"
      ],
      "text/latex": [
       "A data.frame: 6 × 3\n",
       "\\begin{tabular}{r|lll}\n",
       "  & patent\\_id & patent\\_number & patent\\_title\\\\\n",
       "  & <chr> & <chr> & <chr>\\\\\n",
       "\\hline\n",
       "\t1 & 10002228 & 10002228 & Method for binding site identification by molecular dynamics simulation (silcs: site identification by ligand competitive saturation)\\\\\n",
       "\t2 & 10006019 & 10006019 & Methods for recovery of leaf proteins                                                                                                \\\\\n",
       "\t3 & 10010596 & 10010596 & Bacterial live vector vaccines expressing chromosomally-integrated foreign antigens                                                  \\\\\n",
       "\t4 & 10014561 & 10014561 & Systems, methods, and devices for health monitoring of an energy storage device                                                      \\\\\n",
       "\t5 & 10015616 & 10015616 & Sparse decomposition of head related impulse responses with applications to spatial audio rendering                                  \\\\\n",
       "\t6 & 10016413 & 10016413 & Combination dopamine antagonist and opiate receptor antagonist treatment of addictive behavior                                       \\\\\n",
       "\\end{tabular}\n"
      ],
      "text/markdown": [
       "\n",
       "A data.frame: 6 × 3\n",
       "\n",
       "| <!--/--> | patent_id &lt;chr&gt; | patent_number &lt;chr&gt; | patent_title &lt;chr&gt; |\n",
       "|---|---|---|---|\n",
       "| 1 | 10002228 | 10002228 | Method for binding site identification by molecular dynamics simulation (silcs: site identification by ligand competitive saturation) |\n",
       "| 2 | 10006019 | 10006019 | Methods for recovery of leaf proteins                                                                                                 |\n",
       "| 3 | 10010596 | 10010596 | Bacterial live vector vaccines expressing chromosomally-integrated foreign antigens                                                   |\n",
       "| 4 | 10014561 | 10014561 | Systems, methods, and devices for health monitoring of an energy storage device                                                       |\n",
       "| 5 | 10015616 | 10015616 | Sparse decomposition of head related impulse responses with applications to spatial audio rendering                                   |\n",
       "| 6 | 10016413 | 10016413 | Combination dopamine antagonist and opiate receptor antagonist treatment of addictive behavior                                        |\n",
       "\n"
      ],
      "text/plain": [
       "  patent_id patent_number\n",
       "1 10002228  10002228     \n",
       "2 10006019  10006019     \n",
       "3 10010596  10010596     \n",
       "4 10014561  10014561     \n",
       "5 10015616  10015616     \n",
       "6 10016413  10016413     \n",
       "  patent_title                                                                                                                         \n",
       "1 Method for binding site identification by molecular dynamics simulation (silcs: site identification by ligand competitive saturation)\n",
       "2 Methods for recovery of leaf proteins                                                                                                \n",
       "3 Bacterial live vector vaccines expressing chromosomally-integrated foreign antigens                                                  \n",
       "4 Systems, methods, and devices for health monitoring of an energy storage device                                                      \n",
       "5 Sparse decomposition of head related impulse responses with applications to spatial audio rendering                                  \n",
       "6 Combination dopamine antagonist and opiate receptor antagonist treatment of addictive behavior                                       "
      ]
     },
     "metadata": {},
     "output_type": "display_data"
    }
   ],
   "source": [
    "patent_df <- patent_data$patents\n",
    "head(patent_df)"
   ]
  },
  {
   "cell_type": "markdown",
   "metadata": {},
   "source": [
    "### Adding More Options\n",
    "\n",
    "Above we were able to pull data with the default information on the patents (patent_id, patent_number, patent_title). It might be useful to know additional information on patents, such as patent classification and application date. \n",
    "\n",
    "Let's look for those variables in the API Endpoint (http://www.patentsview.org/api/patent.html), and add those fields to our query. We will use the patent type variable called `patent_type`. The application date varible is called `app_date`.\n"
   ]
  },
  {
   "cell_type": "code",
   "execution_count": 20,
   "metadata": {},
   "outputs": [
    {
     "data": {
      "text/html": [
       "200"
      ],
      "text/latex": [
       "200"
      ],
      "text/markdown": [
       "200"
      ],
      "text/plain": [
       "[1] 200"
      ]
     },
     "metadata": {},
     "output_type": "display_data"
    }
   ],
   "source": [
    "qry <- list(q = '{\"assignee_organization\":\"university of maryland\"}', \n",
    "            f='[\"patent_id\", \"patent_title\",\"patent_type\",\"app_date\"]')\n",
    "request <- GET(url, query = qry)\n",
    "request$status_code"
   ]
  },
  {
   "cell_type": "code",
   "execution_count": 21,
   "metadata": {},
   "outputs": [
    {
     "data": {
      "text/html": [
       "<table>\n",
       "<caption>A data.frame: 6 × 4</caption>\n",
       "<thead>\n",
       "\t<tr><th></th><th scope=col>patent_id</th><th scope=col>patent_title</th><th scope=col>patent_type</th><th scope=col>applications</th></tr>\n",
       "\t<tr><th></th><th scope=col>&lt;chr&gt;</th><th scope=col>&lt;chr&gt;</th><th scope=col>&lt;chr&gt;</th><th scope=col>&lt;list&gt;</th></tr>\n",
       "</thead>\n",
       "<tbody>\n",
       "\t<tr><th scope=row>1</th><td>10002228</td><td>Method for binding site identification by molecular dynamics simulation (silcs: site identification by ligand competitive saturation)</td><td>utility</td><td>2015-11-19, 14/945792 </td></tr>\n",
       "\t<tr><th scope=row>2</th><td>10006019</td><td>Methods for recovery of leaf proteins                                                                                                </td><td>utility</td><td>2017-12-13, 15/840857 </td></tr>\n",
       "\t<tr><th scope=row>3</th><td>10010596</td><td>Bacterial live vector vaccines expressing chromosomally-integrated foreign antigens                                                  </td><td>utility</td><td>2016-08-11, 15/234703 </td></tr>\n",
       "\t<tr><th scope=row>4</th><td>10014561</td><td>Systems, methods, and devices for health monitoring of an energy storage device                                                      </td><td>utility</td><td>2014-08-14, 14/912113 </td></tr>\n",
       "\t<tr><th scope=row>5</th><td>10015616</td><td>Sparse decomposition of head related impulse responses with applications to spatial audio rendering                                  </td><td>utility</td><td>2015-06-08, 14/732864 </td></tr>\n",
       "\t<tr><th scope=row>6</th><td>10016413</td><td>Combination dopamine antagonist and opiate receptor antagonist treatment of addictive behavior                                       </td><td>utility</td><td>2013-09-12, 14/025434 </td></tr>\n",
       "</tbody>\n",
       "</table>\n"
      ],
      "text/latex": [
       "A data.frame: 6 × 4\n",
       "\\begin{tabular}{r|llll}\n",
       "  & patent\\_id & patent\\_title & patent\\_type & applications\\\\\n",
       "  & <chr> & <chr> & <chr> & <list>\\\\\n",
       "\\hline\n",
       "\t1 & 10002228 & Method for binding site identification by molecular dynamics simulation (silcs: site identification by ligand competitive saturation) & utility & 2015-11-19, 14/945792 \\\\\n",
       "\t2 & 10006019 & Methods for recovery of leaf proteins                                                                                                 & utility & 2017-12-13, 15/840857 \\\\\n",
       "\t3 & 10010596 & Bacterial live vector vaccines expressing chromosomally-integrated foreign antigens                                                   & utility & 2016-08-11, 15/234703 \\\\\n",
       "\t4 & 10014561 & Systems, methods, and devices for health monitoring of an energy storage device                                                       & utility & 2014-08-14, 14/912113 \\\\\n",
       "\t5 & 10015616 & Sparse decomposition of head related impulse responses with applications to spatial audio rendering                                   & utility & 2015-06-08, 14/732864 \\\\\n",
       "\t6 & 10016413 & Combination dopamine antagonist and opiate receptor antagonist treatment of addictive behavior                                        & utility & 2013-09-12, 14/025434 \\\\\n",
       "\\end{tabular}\n"
      ],
      "text/markdown": [
       "\n",
       "A data.frame: 6 × 4\n",
       "\n",
       "| <!--/--> | patent_id &lt;chr&gt; | patent_title &lt;chr&gt; | patent_type &lt;chr&gt; | applications &lt;list&gt; |\n",
       "|---|---|---|---|---|\n",
       "| 1 | 10002228 | Method for binding site identification by molecular dynamics simulation (silcs: site identification by ligand competitive saturation) | utility | 2015-11-19, 14/945792  |\n",
       "| 2 | 10006019 | Methods for recovery of leaf proteins                                                                                                 | utility | 2017-12-13, 15/840857  |\n",
       "| 3 | 10010596 | Bacterial live vector vaccines expressing chromosomally-integrated foreign antigens                                                   | utility | 2016-08-11, 15/234703  |\n",
       "| 4 | 10014561 | Systems, methods, and devices for health monitoring of an energy storage device                                                       | utility | 2014-08-14, 14/912113  |\n",
       "| 5 | 10015616 | Sparse decomposition of head related impulse responses with applications to spatial audio rendering                                   | utility | 2015-06-08, 14/732864  |\n",
       "| 6 | 10016413 | Combination dopamine antagonist and opiate receptor antagonist treatment of addictive behavior                                        | utility | 2013-09-12, 14/025434  |\n",
       "\n"
      ],
      "text/plain": [
       "  patent_id\n",
       "1 10002228 \n",
       "2 10006019 \n",
       "3 10010596 \n",
       "4 10014561 \n",
       "5 10015616 \n",
       "6 10016413 \n",
       "  patent_title                                                                                                                         \n",
       "1 Method for binding site identification by molecular dynamics simulation (silcs: site identification by ligand competitive saturation)\n",
       "2 Methods for recovery of leaf proteins                                                                                                \n",
       "3 Bacterial live vector vaccines expressing chromosomally-integrated foreign antigens                                                  \n",
       "4 Systems, methods, and devices for health monitoring of an energy storage device                                                      \n",
       "5 Sparse decomposition of head related impulse responses with applications to spatial audio rendering                                  \n",
       "6 Combination dopamine antagonist and opiate receptor antagonist treatment of addictive behavior                                       \n",
       "  patent_type applications          \n",
       "1 utility     2015-11-19, 14/945792 \n",
       "2 utility     2017-12-13, 15/840857 \n",
       "3 utility     2016-08-11, 15/234703 \n",
       "4 utility     2014-08-14, 14/912113 \n",
       "5 utility     2015-06-08, 14/732864 \n",
       "6 utility     2013-09-12, 14/025434 "
      ]
     },
     "metadata": {},
     "output_type": "display_data"
    }
   ],
   "source": [
    "df <- fromJSON(rawToChar(request$content))$patents\n",
    "head(df)"
   ]
  },
  {
   "cell_type": "markdown",
   "metadata": {},
   "source": [
    "We can see that we have these additional variables now. "
   ]
  },
  {
   "cell_type": "code",
   "execution_count": 24,
   "metadata": {},
   "outputs": [
    {
     "data": {
      "text/plain": [
       "\n",
       "utility \n",
       "     25 "
      ]
     },
     "metadata": {},
     "output_type": "display_data"
    }
   ],
   "source": [
    "table(df$patent_type)"
   ]
  },
  {
   "cell_type": "markdown",
   "metadata": {},
   "source": [
    "### Getting All University of Maryland Patents\n",
    "\n",
    "Notice above that we only got 25 patents. This is because that's the default. We actually have the ability to get more than this, by specifying that we want more \"per_page\". "
   ]
  },
  {
   "cell_type": "code",
   "execution_count": 12,
   "metadata": {},
   "outputs": [
    {
     "data": {
      "text/html": [
       "200"
      ],
      "text/latex": [
       "200"
      ],
      "text/markdown": [
       "200"
      ],
      "text/plain": [
       "[1] 200"
      ]
     },
     "metadata": {},
     "output_type": "display_data"
    }
   ],
   "source": [
    "qry <- list(q = '{\"assignee_organization\":\"university of maryland\"}', \n",
    "            f='[\"patent_title\",\"patent_year\", \"patent_abstract\"]',\n",
    "            o='{\"per_page\":2000}')\n",
    "request <- GET(url, query = qry)\n",
    "request$status_code"
   ]
  },
  {
   "cell_type": "markdown",
   "metadata": {},
   "source": [
    "This allows us to get all of the patents that were awarded to University of Maryland, since we already know the number is 1243. "
   ]
  },
  {
   "cell_type": "code",
   "execution_count": 13,
   "metadata": {},
   "outputs": [
    {
     "name": "stdout",
     "output_type": "stream",
     "text": [
      "'data.frame':\t1243 obs. of  3 variables:\n",
      " $ patent_title   : chr  \"Method for binding site identification by molecular dynamics simulation (silcs: site identification by ligand c\"| __truncated__ \"Methods for recovery of leaf proteins\" \"Bacterial live vector vaccines expressing chromosomally-integrated foreign antigens\" \"Systems, methods, and devices for health monitoring of an energy storage device\" ...\n",
      " $ patent_year    : chr  \"2018\" \"2018\" \"2018\" \"2018\" ...\n",
      " $ patent_abstract: chr  \"The invention describes an explicit solvent all-atom molecular dynamics methodology (SILCS: Site Identification\"| __truncated__ \"A novel method for processing soluble plant leaf proteins is described. While leaf proteins are considered pote\"| __truncated__ \"Bacterial live vector vaccines represent a vaccine development strategy that offers exceptional flexibility. In\"| __truncated__ \"A health monitoring device includes an ultrasound source and an ultrasound sensor. The ultrasound source can be\"| __truncated__ ...\n"
     ]
    }
   ],
   "source": [
    "umd_patents <- fromJSON(rawToChar(request$content))$patents\n",
    "str(umd_patents)"
   ]
  },
  {
   "cell_type": "markdown",
   "metadata": {},
   "source": [
    "## What Now?\n",
    "\n",
    "Now that we have the patent data, what can we do with it? Well, one example is doing text analysis using the patent abstracts. We might be interested in what types of patents were awarded to University of Maryland, and the topics of those patents, because while there is a `patent_type` field, it doesn't actually give us that much information. To do that, we might want to take the abstracts and extract meaning out of them. We don't want to read over 1000 abstracts though (or, maybe you do, but it'd still be quite time-consuming!), but we can use something called **topic modeling**. "
   ]
  },
  {
   "cell_type": "markdown",
   "metadata": {},
   "source": [
    "## Exercises\n",
    "\n",
    "**1. How might we change the code above to pull patent data for patents that were awarded to University of Michigan?** \n",
    "\n",
    "**2. Using the information in <https://www.patentsview.org/api/patent.html>, try adding some more fields and pulling some more data.**"
   ]
  }
 ],
 "metadata": {
  "jupytext": {
   "cell_metadata_filter": "name,hide_output,-all",
   "main_language": "R",
   "notebook_metadata_filter": "-all"
  },
  "kernelspec": {
   "display_name": "R",
   "language": "R",
   "name": "ir"
  },
  "language_info": {
   "codemirror_mode": "r",
   "file_extension": ".r",
   "mimetype": "text/x-r-source",
   "name": "R",
   "pygments_lexer": "r",
   "version": "3.6.1"
  }
 },
 "nbformat": 4,
 "nbformat_minor": 4
}
